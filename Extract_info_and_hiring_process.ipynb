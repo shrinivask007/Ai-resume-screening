{
  "nbformat": 4,
  "nbformat_minor": 0,
  "metadata": {
    "colab": {
      "provenance": []
    },
    "kernelspec": {
      "name": "python3",
      "display_name": "Python 3"
    },
    "language_info": {
      "name": "python"
    }
  },
  "cells": [
    {
      "cell_type": "code",
      "source": [
        "!pip install pdfminer.six\n"
      ],
      "metadata": {
        "colab": {
          "base_uri": "https://localhost:8080/"
        },
        "id": "QHneFwI7hviK",
        "outputId": "16900f30-b2f1-455e-e8e9-482c330e366a"
      },
      "execution_count": null,
      "outputs": [
        {
          "output_type": "stream",
          "name": "stdout",
          "text": [
            "Collecting pdfminer.six\n",
            "  Downloading pdfminer.six-20240706-py3-none-any.whl.metadata (4.1 kB)\n",
            "Requirement already satisfied: charset-normalizer>=2.0.0 in /usr/local/lib/python3.10/dist-packages (from pdfminer.six) (3.4.0)\n",
            "Requirement already satisfied: cryptography>=36.0.0 in /usr/local/lib/python3.10/dist-packages (from pdfminer.six) (43.0.3)\n",
            "Requirement already satisfied: cffi>=1.12 in /usr/local/lib/python3.10/dist-packages (from cryptography>=36.0.0->pdfminer.six) (1.17.1)\n",
            "Requirement already satisfied: pycparser in /usr/local/lib/python3.10/dist-packages (from cffi>=1.12->cryptography>=36.0.0->pdfminer.six) (2.22)\n",
            "Downloading pdfminer.six-20240706-py3-none-any.whl (5.6 MB)\n",
            "\u001b[2K   \u001b[90m━━━━━━━━━━━━━━━━━━━━━━━━━━━━━━━━━━━━━━━━\u001b[0m \u001b[32m5.6/5.6 MB\u001b[0m \u001b[31m36.0 MB/s\u001b[0m eta \u001b[36m0:00:00\u001b[0m\n",
            "\u001b[?25hInstalling collected packages: pdfminer.six\n",
            "Successfully installed pdfminer.six-20240706\n"
          ]
        }
      ]
    },
    {
      "cell_type": "code",
      "execution_count": null,
      "metadata": {
        "colab": {
          "base_uri": "https://localhost:8080/",
          "height": 140
        },
        "id": "ZtMNoQWER0AU",
        "outputId": "bb8a2413-c2d6-48ac-9238-b0971d225e7f"
      },
      "outputs": [
        {
          "output_type": "execute_result",
          "data": {
            "text/plain": [
              "'(cid:211) +91-9511860406  shrinivassk18@gmail.com (cid:140) Portfolio  shrinivas-kathare (cid:135) shrinivask007 (cid:153) Leetcode\\n\\nShrinivas Kathare\\n\\nEDUCATION\\nVishwakarma Institute of Information Technology\\nB.Tech - IT - Third Year - CGPA - 9.0\\nNarayana Junior College, Hyderabad\\nHSC/12th - Percentage - 97.2%\\n\\nMay 2021 – Jun 2025\\nPune ,Maharashtra\\n\\nMay 2019 – Apr 2021\\nHyderabad, Telangana\\n\\nSELECTED PROJECTS\\nReal Time End to End CI/CD Pipeline  | GitHub ,Jenkins,SonarQube,Docker, Aqua Trivy Jul 2024\\n\\n• Developed a Real-time location-sharing application in Node.js by following DevOps practices .\\n• Implemented a CI/CD Pipeline integrating GitHub with Jenkins for automated build and deployment.\\n• Utilized SonarQube scanner for code quality analysis and OWASP Dependency-Check for security\\n\\nvulnerability scanning.\\n\\n• Automated Docker image creation, pushed images to DockerHub, and scanned them using Aqua Trivy.\\n• Deployed and Containerized the application using Docker, emphasizing secure DevSecOps practices.\\n\\nJob Junction :Grab and Grant Jobs  | ReactJs,MaterialUI, NodeJs, ExpressJs ,MongoDB Feb 2024\\n\\n• Built a responsive front-end with ReactJS and Material UI, allowing users to view and apply for jobs.\\n• Developed a backend with Node.js and Express.js, handling CRUD operations on MongoDB using Mongoose\\n\\nand testing APIs with Postman.\\n\\n• Implemented authentication and authorization with JWT and cookies,with forms validated by Formik,Yup.\\n• Created admin and user dashboards for job management with search and filter features.\\n• Deployed the project’s backend on Render.com and the frontend on Vercel (Live)\\n\\nBulk Email Marketing  | AWS Lambda ,AWS SES ,AWS S3, AWS Event-Bridge\\n\\nMar 2024\\n\\n• Used AWS Simple Email Service for scalable email delivery and AWS Lambda for serverless processing.\\n• Implemented AWS S3 buckets for secure storage of email content and metadata.\\n• Configured AWS EventBridge to automate email campaigns and track user interactions in real-time.\\n• Utilized AWS IAM for secure access control and AWS CloudWatch for monitoring logs and performance.\\n\\nDecentralized Blockchain E-Voting  | HTML, CSS,Node.js, Express.js,MongoDB,\\n\\nEthereum, Solidity, Web3.js, Truffle, Ganache, Metamask\\n\\nSept 2024\\n\\n• Utilized Node.js and Express.js to build a robust backend for the web application.\\n• Employed HTML, CSS, and JavaScript to create a user-friendly frontend interface.\\n• Implemented MongoDB for efficient data storage and retrieval of user information and voting records.\\n• Leveraged Ethereum, Solidity, and Web3.js to develop and deploy smart contracts on the blockchain.\\n• Used Truffle, Ganache, and Metamask for testing and managing blockchain interactions.\\n\\nTECHNICAL SKILLS\\n\\nLanguages: Python, Java, C, C++, HTML, CSS, JavaScript, MySQL, Linux, MongoDB\\nDeveloper Tools: VS Code, Vim, Git, Postman, Firebase\\nDevOps Tools: AWS, Jenkins, Docker, Kubernetes, Terraform, Ansible\\nData Analyst tools: Excel, SQL, Python, Power BI\\nTechnologies/Frameworks: GitHub, ReactJs, NodeJs, ExpressJs\\nBlockchain Technologies: Ethereum, Solidity, Web3.js, Truffle, Ganache, Metamask\\nCourse Work: DSA, OS, Computer Network, DBMS, AI-ML, OOPS, Cloud Computing, Software Engineering.\\n\\nACHIEVEMENTS and CERTIFICATIONS\\n\\n• 1418 Contest Rating, solved 450+ DSA Problems on Leetcode  + GeeksforGeeks \\n• AWS Academy Cloud Foundations \\n• CCNA : Introduction to Networks \\n• 5 Stars in C++ & SQL - Hackerank\\n\\nEXTRACURRICULAR\\nIEEE VIIT Student Branch \\nAssociate Design Head\\n\\n• Figma ,Canva Designing.\\n• Learned about Leadership, Team-work, Problem solving , and Communication skills\\n\\nJul 2022 – Jul 2023\\n\\n\\x0c'"
            ],
            "application/vnd.google.colaboratory.intrinsic+json": {
              "type": "string"
            }
          },
          "metadata": {},
          "execution_count": 15
        }
      ],
      "source": [
        "import re\n",
        "from pdfminer.high_level import extract_text\n",
        "\n",
        "def extract_text_from_pdf(pdf_path):\n",
        "    return extract_text(pdf_path)\n",
        "\n",
        "\n",
        "resume_path = \"Shrinivas_Kathare.pdf\"\n",
        "text = extract_text_from_pdf(resume_path)\n",
        "text"
      ]
    },
    {
      "cell_type": "markdown",
      "source": [
        "#Extract Name"
      ],
      "metadata": {
        "id": "M006fCFXmd_0"
      }
    },
    {
      "cell_type": "code",
      "source": [
        "def extract_name_from_resume(text):\n",
        "    name = None\n",
        "\n",
        "    # Use regex pattern to find a potential name\n",
        "    pattern = r\"(\\b[A-Z][a-z]+\\b)\\s(\\b[A-Z][a-z]+\\b)\"\n",
        "    match = re.search(pattern, text)\n",
        "    if match:\n",
        "        name = match.group()\n",
        "\n",
        "    return name\n",
        "\n",
        "name = extract_name_from_resume(text)\n",
        "\n",
        "if name:\n",
        "    print(\"Name:\", name)\n",
        "else:\n",
        "    print(\"Name not found\")\n",
        "\n"
      ],
      "metadata": {
        "colab": {
          "base_uri": "https://localhost:8080/"
        },
        "id": "0NcsAT8Fktup",
        "outputId": "20a21c65-ab92-4a4c-9412-3226365bce41"
      },
      "execution_count": null,
      "outputs": [
        {
          "output_type": "stream",
          "name": "stdout",
          "text": [
            "Name: John Doe\n"
          ]
        }
      ]
    },
    {
      "cell_type": "markdown",
      "source": [
        "#Extract Contact Info"
      ],
      "metadata": {
        "id": "FeBDD-FPik8E"
      }
    },
    {
      "cell_type": "code",
      "source": [
        "import re\n",
        "\n",
        "def extract_contact_number_from_resume(text):\n",
        "    contact_number = None\n",
        "\n",
        "    # Use regex pattern to find a potential contact number\n",
        "    pattern = r\"\\b(?:\\+?\\d{1,3}[-.\\s]?)?\\(?\\d{3}\\)?[-.\\s]?\\d{3}[-.\\s]?\\d{4}\\b\"\n",
        "    match = re.search(pattern, text)\n",
        "    if match:\n",
        "        contact_number = match.group()\n",
        "\n",
        "    return contact_number\n",
        "\n",
        "phone = extract_contact_number_from_resume(text)\n",
        "phone"
      ],
      "metadata": {
        "colab": {
          "base_uri": "https://localhost:8080/",
          "height": 36
        },
        "id": "3UlQPrOXigmD",
        "outputId": "c37dfbb4-887d-4b23-f041-f4b10d8d35d0"
      },
      "execution_count": null,
      "outputs": [
        {
          "output_type": "execute_result",
          "data": {
            "text/plain": [
              "'123) 456-7890'"
            ],
            "application/vnd.google.colaboratory.intrinsic+json": {
              "type": "string"
            }
          },
          "metadata": {},
          "execution_count": 8
        }
      ]
    },
    {
      "cell_type": "markdown",
      "source": [
        "#Extracting Email Address"
      ],
      "metadata": {
        "id": "tAZefynMjIm6"
      }
    },
    {
      "cell_type": "code",
      "source": [
        "import re\n",
        "\n",
        "def extract_email_from_resume(text):\n",
        "    email = None\n",
        "\n",
        "    # Use regex pattern to find a potential email address\n",
        "    pattern = r\"\\b[A-Za-z0-9._%+-]+@[A-Za-z0-9.-]+\\.[A-Za-z]{2,}\\b\"\n",
        "    match = re.search(pattern, text)\n",
        "    if match:\n",
        "        email = match.group()\n",
        "\n",
        "    return email\n",
        "\n",
        "email = extract_email_from_resume(text)\n",
        "email"
      ],
      "metadata": {
        "colab": {
          "base_uri": "https://localhost:8080/",
          "height": 36
        },
        "id": "BfVAUr0WjMmd",
        "outputId": "05af0a04-b281-4762-9612-c0cd38fc4298"
      },
      "execution_count": null,
      "outputs": [
        {
          "output_type": "execute_result",
          "data": {
            "text/plain": [
              "'johndoe@email.com'"
            ],
            "application/vnd.google.colaboratory.intrinsic+json": {
              "type": "string"
            }
          },
          "metadata": {},
          "execution_count": 9
        }
      ]
    },
    {
      "cell_type": "code",
      "source": [
        "import re\n",
        "\n",
        "def extract_skills_from_resume(text, skills_list):\n",
        "    skills = []\n",
        "\n",
        "    for skill in skills_list:\n",
        "        pattern = r\"\\b{}\\b\".format(re.escape(skill))\n",
        "        match = re.search(pattern, text, re.IGNORECASE)\n",
        "        if match:\n",
        "            skills.append(skill)\n",
        "\n",
        "    return skills\n",
        "\n",
        "\n",
        "# List of predefined skills\n",
        "skills_list = [\n",
        "    'Python', 'Data Analysis', 'Machine Learning', 'Communication', 'Project Management', 'Deep Learning', 'SQL', 'Tableau',\n",
        "    'Java', 'C++', 'JavaScript', 'HTML', 'CSS', 'React', 'Angular', 'Node.js', 'MongoDB', 'Express.js', 'Git',\n",
        "    'Research', 'Statistics', 'Quantitative Analysis', 'Qualitative Analysis', 'SPSS', 'R', 'Data Visualization', 'Matplotlib',\n",
        "    'Seaborn', 'Plotly', 'Pandas', 'Numpy', 'Scikit-learn', 'TensorFlow', 'Keras', 'PyTorch', 'NLTK', 'Text Mining',\n",
        "    'Natural Language Processing', 'Computer Vision', 'Image Processing', 'OCR', 'Speech Recognition', 'Recommendation Systems',\n",
        "    'Collaborative Filtering', 'Content-Based Filtering', 'Reinforcement Learning', 'Neural Networks', 'Convolutional Neural Networks',\n",
        "    'Recurrent Neural Networks', 'Generative Adversarial Networks', 'XGBoost', 'Random Forest', 'Decision Trees', 'Support Vector Machines',\n",
        "    'Linear Regression', 'Logistic Regression', 'K-Means Clustering', 'Hierarchical Clustering', 'DBSCAN', 'Association Rule Learning',\n",
        "    'Apache Hadoop', 'Apache Spark', 'MapReduce', 'Hive', 'HBase', 'Apache Kafka', 'Data Warehousing', 'ETL', 'Big Data Analytics',\n",
        "    'Cloud Computing', 'Amazon Web Services (AWS)', 'Microsoft Azure', 'Google Cloud Platform (GCP)', 'Docker', 'Kubernetes', 'Linux',\n",
        "    'Shell Scripting', 'Cybersecurity', 'Network Security', 'Penetration Testing', 'Firewalls', 'Encryption', 'Malware Analysis',\n",
        "    'Digital Forensics', 'CI/CD', 'DevOps', 'Agile Methodology', 'Scrum', 'Kanban', 'Continuous Integration', 'Continuous Deployment',\n",
        "    'Software Development', 'Web Development', 'Mobile Development', 'Backend Development', 'Frontend Development', 'Full-Stack Development',\n",
        "    'UI/UX Design', 'Responsive Design', 'Wireframing', 'Prototyping', 'User Testing', 'Adobe Creative Suite', 'Photoshop', 'Illustrator',\n",
        "    'InDesign', 'Figma', 'Sketch', 'Zeplin', 'InVision', 'Product Management', 'Market Research', 'Customer Development', 'Lean Startup',\n",
        "    'Business Development', 'Sales', 'Marketing', 'Content Marketing', 'Social Media Marketing', 'Email Marketing', 'SEO', 'SEM', 'PPC',\n",
        "    'Google Analytics', 'Facebook Ads', 'LinkedIn Ads', 'Lead Generation', 'Customer Relationship Management (CRM)', 'Salesforce',\n",
        "    'HubSpot', 'Zendesk', 'Intercom', 'Customer Support', 'Technical Support', 'Troubleshooting', 'Ticketing Systems', 'ServiceNow',\n",
        "    'ITIL', 'Quality Assurance', 'Manual Testing', 'Automated Testing', 'Selenium', 'JUnit', 'Load Testing', 'Performance Testing',\n",
        "    'Regression Testing', 'Black Box Testing', 'White Box Testing', 'API Testing', 'Mobile Testing', 'Usability Testing', 'Accessibility Testing',\n",
        "    'Cross-Browser Testing', 'Agile Testing', 'User Acceptance Testing', 'Software Documentation', 'Technical Writing', 'Copywriting',\n",
        "    'Editing', 'Proofreading', 'Content Management Systems (CMS)', 'WordPress', 'Joomla', 'Drupal', 'Magento', 'Shopify', 'E-commerce',\n",
        "    'Payment Gateways', 'Inventory Management', 'Supply Chain Management', 'Logistics', 'Procurement', 'ERP Systems', 'SAP', 'Oracle',\n",
        "    'Microsoft Dynamics', 'Tableau', 'Power BI', 'QlikView', 'Looker', 'Data Warehousing', 'ETL', 'Data Engineering', 'Data Governance',\n",
        "    'Data Quality', 'Master Data Management', 'Predictive Analytics', 'Prescriptive Analytics', 'Descriptive Analytics', 'Business Intelligence',\n",
        "    'Dashboarding', 'Reporting', 'Data Mining', 'Web Scraping', 'API Integration', 'RESTful APIs', 'GraphQL', 'SOAP', 'Microservices',\n",
        "    'Serverless Architecture', 'Lambda Functions', 'Event-Driven Architecture', 'Message Queues', 'GraphQL', 'Socket.io', 'WebSockets'\n",
        "'Ruby', 'Ruby on Rails', 'PHP', 'Symfony', 'Laravel', 'CakePHP', 'Zend Framework', 'ASP.NET', 'C#', 'VB.NET', 'ASP.NET MVC', 'Entity Framework',\n",
        "    'Spring', 'Hibernate', 'Struts', 'Kotlin', 'Swift', 'Objective-C', 'iOS Development', 'Android Development', 'Flutter', 'React Native', 'Ionic',\n",
        "    'Mobile UI/UX Design', 'Material Design', 'SwiftUI', 'RxJava', 'RxSwift', 'Django', 'Flask', 'FastAPI', 'Falcon', 'Tornado', 'WebSockets',\n",
        "    'GraphQL', 'RESTful Web Services', 'SOAP', 'Microservices Architecture', 'Serverless Computing', 'AWS Lambda', 'Google Cloud Functions',\n",
        "    'Azure Functions', 'Server Administration', 'System Administration', 'Network Administration', 'Database Administration', 'MySQL', 'PostgreSQL',\n",
        "    'SQLite', 'Microsoft SQL Server', 'Oracle Database', 'NoSQL', 'MongoDB', 'Cassandra', 'Redis', 'Elasticsearch', 'Firebase', 'Google Analytics',\n",
        "    'Google Tag Manager', 'Adobe Analytics', 'Marketing Automation', 'Customer Data Platforms', 'Segment', 'Salesforce Marketing Cloud', 'HubSpot CRM',\n",
        "    'Zapier', 'IFTTT', 'Workflow Automation', 'Robotic Process Automation (RPA)', 'UI Automation', 'Natural Language Generation (NLG)',\n",
        "    'Virtual Reality (VR)', 'Augmented Reality (AR)', 'Mixed Reality (MR)', 'Unity', 'Unreal Engine', '3D Modeling', 'Animation', 'Motion Graphics',\n",
        "    'Game Design', 'Game Development', 'Level Design', 'Unity3D', 'Unreal Engine 4', 'Blender', 'Maya', 'Adobe After Effects', 'Adobe Premiere Pro',\n",
        "    'Final Cut Pro', 'Video Editing', 'Audio Editing', 'Sound Design', 'Music Production', 'Digital Marketing', 'Content Strategy', 'Conversion Rate Optimization (CRO)',\n",
        "    'A/B Testing', 'Customer Experience (CX)', 'User Experience (UX)', 'User Interface (UI)', 'Persona Development', 'User Journey Mapping', 'Information Architecture (IA)',\n",
        "    'Wireframing', 'Prototyping', 'Usability Testing', 'Accessibility Compliance', 'Internationalization (I18n)', 'Localization (L10n)', 'Voice User Interface (VUI)',\n",
        "    'Chatbots', 'Natural Language Understanding (NLU)', 'Speech Synthesis', 'Emotion Detection', 'Sentiment Analysis', 'Image Recognition', 'Object Detection',\n",
        "    'Facial Recognition', 'Gesture Recognition', 'Document Recognition', 'Fraud Detection', 'Cyber Threat Intelligence', 'Security Information and Event Management (SIEM)',\n",
        "    'Vulnerability Assessment', 'Incident Response', 'Forensic Analysis', 'Security Operations Center (SOC)', 'Identity and Access Management (IAM)', 'Single Sign-On (SSO)',\n",
        "    'Multi-Factor Authentication (MFA)', 'Blockchain', 'Cryptocurrency', 'Decentralized Finance (DeFi)', 'Smart Contracts', 'Web3', 'Non-Fungible Tokens (NFTs)']\n",
        "\n",
        "extracted_skills = extract_skills_from_resume(text, skills_list)\n",
        "\n",
        "if extracted_skills:\n",
        "    print(\"Skills:\", extracted_skills)\n",
        "else:\n",
        "    print(\"No skills found\")"
      ],
      "metadata": {
        "colab": {
          "base_uri": "https://localhost:8080/"
        },
        "id": "3S63Gm02lPoU",
        "outputId": "a7792139-bd1a-42bd-ce13-0d943c634862"
      },
      "execution_count": null,
      "outputs": [
        {
          "output_type": "stream",
          "name": "stdout",
          "text": [
            "Skills: ['Python', 'Communication', 'SQL', 'Java', 'JavaScript', 'HTML', 'CSS', 'Node.js', 'MongoDB', 'Express.js', 'Git', 'Cloud Computing', 'Docker', 'Kubernetes', 'Linux', 'CI/CD', 'DevOps', 'Figma', 'Marketing', 'Email Marketing', 'Power BI', 'AWS Lambda', 'MySQL', 'MongoDB', 'Firebase', 'Blockchain', 'Smart Contracts', 'Web3']\n"
          ]
        }
      ]
    },
    {
      "cell_type": "code",
      "source": [
        "import re\n",
        "\n",
        "def extract_education_from_resume(text):\n",
        "    education = []\n",
        "\n",
        "    # List of education keywords to match against\n",
        "    education_keywords = [\n",
        "        'Computer Science', 'Information Technology', 'Software Engineering', 'Electrical Engineering', 'Mechanical Engineering', 'Civil Engineering',\n",
        "        'Chemical Engineering', 'Biomedical Engineering', 'Aerospace Engineering', 'Nuclear Engineering', 'Industrial Engineering', 'Systems Engineering',\n",
        "        'Environmental Engineering', 'Petroleum Engineering', 'Geological Engineering', 'Marine Engineering', 'Robotics Engineering', 'Biotechnology',\n",
        "        'Biochemistry', 'Microbiology', 'Genetics', 'Molecular Biology', 'Bioinformatics', 'Neuroscience', 'Biophysics', 'Biostatistics', 'Pharmacology',\n",
        "        'Physiology', 'Anatomy', 'Pathology', 'Immunology', 'Epidemiology', 'Public Health', 'Health Administration', 'Nursing', 'Medicine', 'Dentistry',\n",
        "        'Pharmacy', 'Veterinary Medicine', 'Medical Technology', 'Radiography', 'Physical Therapy', 'Occupational Therapy', 'Speech Therapy', 'Nutrition',\n",
        "        'Sports Science', 'Kinesiology', 'Exercise Physiology', 'Sports Medicine', 'Rehabilitation Science', 'Psychology', 'Counseling', 'Social Work',\n",
        "        'Sociology', 'Anthropology', 'Criminal Justice', 'Political Science', 'International Relations', 'Economics', 'Finance', 'Accounting', 'Business Administration',\n",
        "        'Management', 'Marketing', 'Entrepreneurship', 'Hospitality Management', 'Tourism Management', 'Supply Chain Management', 'Logistics Management',\n",
        "        'Operations Management', 'Human Resource Management', 'Organizational Behavior', 'Project Management', 'Quality Management', 'Risk Management',\n",
        "        'Strategic Management', 'Public Administration', 'Urban Planning', 'Architecture', 'Interior Design', 'Landscape Architecture', 'Fine Arts',\n",
        "        'Visual Arts', 'Graphic Design', 'Fashion Design', 'Industrial Design', 'Product Design', 'Animation', 'Film Studies', 'Media Studies',\n",
        "        'Communication Studies', 'Journalism', 'Broadcasting', 'Creative Writing', 'English Literature', 'Linguistics', 'Translation Studies',\n",
        "        'Foreign Languages', 'Modern Languages', 'Classical Studies', 'History', 'Archaeology', 'Philosophy', 'Theology', 'Religious Studies',\n",
        "        'Ethics', 'Early Childhood Education', 'Elementary Education', 'Secondary Education', 'Special Education', 'Higher Education',\n",
        "        'Adult Education', 'Distance Education', 'Online Education', 'Instructional Design', 'Curriculum Development'\n",
        "        'Library Science', 'Information Science', 'Computer Engineering', 'Software Development', 'Cybersecurity', 'Information Security',\n",
        "        'Network Engineering', 'Data Science', 'Data Analytics', 'Business Analytics', 'Operations Research', 'Decision Sciences',\n",
        "        'Human-Computer Interaction', 'User Experience Design', 'User Interface Design', 'Digital Marketing', 'Content Strategy',\n",
        "        'Brand Management', 'Public Relations', 'Corporate Communications', 'Media Production', 'Digital Media', 'Web Development',\n",
        "        'Mobile App Development', 'Game Development', 'Virtual Reality', 'Augmented Reality', 'Blockchain Technology', 'Cryptocurrency',\n",
        "        'Digital Forensics', 'Forensic Science', 'Criminalistics', 'Crime Scene Investigation', 'Emergency Management', 'Fire Science',\n",
        "        'Environmental Science', 'Climate Science', 'Meteorology', 'Geography', 'Geomatics', 'Remote Sensing', 'Geoinformatics',\n",
        "        'Cartography', 'GIS (Geographic Information Systems)', 'Environmental Management', 'Sustainability Studies', 'Renewable Energy',\n",
        "        'Green Technology', 'Ecology', 'Conservation Biology', 'Wildlife Biology', 'Zoology']\n",
        "\n",
        "    for keyword in education_keywords:\n",
        "        pattern = r\"(?i)\\b{}\\b\".format(re.escape(keyword))\n",
        "        match = re.search(pattern, text)\n",
        "        if match:\n",
        "            education.append(match.group())\n",
        "\n",
        "    return education\n",
        "\n",
        "extracted_education = extract_education_from_resume(text)\n",
        "if extracted_education:\n",
        "    print(\"Education:\", extracted_education)\n",
        "else:\n",
        "    print(\"No education information found\")"
      ],
      "metadata": {
        "colab": {
          "base_uri": "https://localhost:8080/"
        },
        "id": "Wegh3sS5mSGC",
        "outputId": "c323bb88-ee6e-4306-b56b-878712b5aa33"
      },
      "execution_count": null,
      "outputs": [
        {
          "output_type": "stream",
          "name": "stdout",
          "text": [
            "Education: ['Computer Science', 'Management', 'Education', 'software development', 'web development']\n"
          ]
        }
      ]
    }
  ]
}